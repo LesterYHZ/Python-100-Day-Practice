{
 "cells": [
  {
   "cell_type": "code",
   "execution_count": 2,
   "metadata": {},
   "outputs": [],
   "source": [
    "import numpy as np"
   ]
  },
  {
   "cell_type": "markdown",
   "metadata": {},
   "source": [
    "### Create array"
   ]
  },
  {
   "cell_type": "code",
   "execution_count": 11,
   "metadata": {},
   "outputs": [
    {
     "name": "stdout",
     "output_type": "stream",
     "text": [
      "a =  [ 0 10 20 30 40 50]\n",
      "b =  [[ 0]\n",
      " [10]\n",
      " [20]\n",
      " [30]\n",
      " [40]\n",
      " [50]]\n",
      "c =  [[ 0  1  2  3  4  5]\n",
      " [10 11 12 13 14 15]\n",
      " [20 21 22 23 24 25]\n",
      " [30 31 32 33 34 35]\n",
      " [40 41 42 43 44 45]\n",
      " [50 51 52 53 54 55]]\n"
     ]
    }
   ],
   "source": [
    "a = np.arange(0,60,10)\n",
    "print(\"a = \",a)\n",
    "b = a.reshape(-1,1)\n",
    "print(\"b = \",b)\n",
    "c = b+np.arange(0,6)\n",
    "print(\"c = \",c)"
   ]
  },
  {
   "cell_type": "markdown",
   "metadata": {},
   "source": [
    "### Structure array"
   ]
  },
  {
   "cell_type": "code",
   "execution_count": 13,
   "metadata": {},
   "outputs": [
    {
     "name": "stdout",
     "output_type": "stream",
     "text": [
      "[(b'Hana', 19, 50.) (b'Ayaya', 20, 60.)]\n"
     ]
    }
   ],
   "source": [
    "persontype = np.dtype({\n",
    "    \"names\":[\"name\",\"age\",\"weight\"],\n",
    "    \"formats\":[\"S32\",\"i\",\"f\"]\n",
    "})\n",
    "\n",
    "a = np.array([(\"Hana\",19,50),(\"Ayaya\",20,60)],dtype=persontype)\n",
    "print(a)"
   ]
  },
  {
   "cell_type": "code",
   "execution_count": 18,
   "metadata": {},
   "outputs": [
    {
     "name": "stdout",
     "output_type": "stream",
     "text": [
      "(b'D.Va', 19, 50.)\n",
      "b'D.Va'\n",
      "[19 21]\n",
      "21\n"
     ]
    }
   ],
   "source": [
    "c = a[0]\n",
    "c[\"name\"]=\"D.Va\"\n",
    "print(c)\n",
    "print(c[\"name\"])\n",
    "\n",
    "b = a[\"age\"]\n",
    "print(b)\n",
    "b[1]=21\n",
    "print(a[1][\"age\"])"
   ]
  },
  {
   "cell_type": "code",
   "execution_count": 22,
   "metadata": {},
   "outputs": [
    {
     "name": "stdout",
     "output_type": "stream",
     "text": [
      "[(b'D.Va', 19, 50.) (b'Ayaya', 21, 60.)]\n"
     ]
    }
   ],
   "source": [
    "print(a)\n",
    "a.tofile(\"StructureArray.txt\")"
   ]
  },
  {
   "cell_type": "markdown",
   "metadata": {},
   "source": [
    "### Universal function"
   ]
  },
  {
   "cell_type": "code",
   "execution_count": 28,
   "metadata": {},
   "outputs": [
    {
     "name": "stdout",
     "output_type": "stream",
     "text": [
      "np.sin:  0.022938013076782227\n"
     ]
    }
   ],
   "source": [
    "import time\n",
    "\n",
    "x = [i*0.001 for i in range(1000000)]\n",
    "x = np.array(x)\n",
    "start = time.time()\n",
    "np.sin(x,x)\n",
    "print(\"np.sin: \",time.time()-start)"
   ]
  },
  {
   "cell_type": "code",
   "execution_count": 31,
   "metadata": {},
   "outputs": [
    {
     "name": "stdout",
     "output_type": "stream",
     "text": [
      "[0 1 2 3]\n",
      "[1 2 3 4]\n",
      "[1 3 5 7]\n",
      "[1 3 5 7]\n"
     ]
    }
   ],
   "source": [
    "a = np.arange(0,4)\n",
    "print(a)\n",
    "b = np.arange(1,5)\n",
    "print(b)\n",
    "c = np.add(a,b)\n",
    "print(c)\n",
    "np.add(a,b,a)\n",
    "print(a)"
   ]
  },
  {
   "cell_type": "code",
   "execution_count": 34,
   "metadata": {
    "scrolled": true
   },
   "outputs": [
    {
     "data": {
      "image/png": "[encoded data removed]",
      "text/plain": [
       "<Figure size 432x288 with 1 Axes>"
      ]
     },
     "metadata": {
      "needs_background": "light"
     },
     "output_type": "display_data"
    }
   ],
   "source": [
    "import matplotlib.pyplot as plt\n",
    "def triangle_wave(x,c,c0,hc):\n",
    "    \"\"\"\n",
    "    Input\n",
    "        x: coord\n",
    "        c: wavelength\n",
    "        c0: wavelength 'till peak\n",
    "        hc: amp\n",
    "    \n",
    "    Output\n",
    "        r: single value on triangle wave\n",
    "    \"\"\"\n",
    "    x = x-int(x)\n",
    "    if x>=c:\n",
    "        r = 0.0\n",
    "    elif x<c0:\n",
    "        r = x/c0*hc\n",
    "    else:\n",
    "        r = (c-x)/(c-c0)*hc\n",
    "    return r\n",
    "\n",
    "x = np.linspace(0,2,1000)\n",
    "y = np.array([triangle_wave(t,0.6,0.4,1.0) for t in x])\n",
    "plt.plot(x,y)\n",
    "plt.show()"
   ]
  },
  {
   "cell_type": "markdown",
   "metadata": {},
   "source": [
    "In the last cell we used a list to contain all the triangle\n",
    "    wave values we want and then plot the waveform. Yet this \n",
    "    method is not efficient for multi-dimensional matrix. Thus,\n",
    "    in this cell we will be using frompyfunc() and lambda"
   ]
  },
  {
   "cell_type": "code",
   "execution_count": 44,
   "metadata": {},
   "outputs": [
    {
     "data": {
      "image/png": "[encoded data removed]",
      "text/plain": [
       "<Figure size 432x288 with 1 Axes>"
      ]
     },
     "metadata": {
      "needs_background": "light"
     },
     "output_type": "display_data"
    }
   ],
   "source": [
    "triangle_ufunc = np.frompyfunc(\n",
    "    lambda x: triangle_wave(x,0.6,0.4,1.0),1,1)\n",
    "y2 = triangle_ufunc(x)\n",
    "plt.plot(x,y2)\n",
    "plt.show()"
   ]
  },
  {
   "cell_type": "markdown",
   "metadata": {},
   "source": [
    "frompyfunc(func,n_in,n_out),in which n_in is the number\n",
    "    of input and n_out is the number of output/return value.\n",
    "    For triangle_wave(),we only have one input because in \n",
    "    this case our c, c0, hc are constant and we only need to \n",
    "    input our x values. So we uses lambda function so that\n",
    "    we only need to have one input for triangle_wave()"
   ]
  },
  {
   "cell_type": "code",
   "execution_count": 45,
   "metadata": {
    "scrolled": true
   },
   "outputs": [
    {
     "data": {
      "image/png": "[encoded data removed]",
      "text/plain": [
       "<Figure size 432x288 with 1 Axes>"
      ]
     },
     "metadata": {
      "needs_background": "light"
     },
     "output_type": "display_data"
    }
   ],
   "source": [
    "def triangle_func(c,c0,hc):\n",
    "    def trifunc(x):\n",
    "        x = x-int(x)\n",
    "        if x>=c:\n",
    "            r = 0.0\n",
    "        elif x<c0: \n",
    "            r = x/c0*hc\n",
    "        else: \n",
    "            r = (c-x)/(c-c0)*hc\n",
    "        return r\n",
    "    return np.frompyfunc(trifunc,1,1)\n",
    "\n",
    "y2 = triangle_func(0.6,0.4,1.0)(x)\n",
    "plt.plot(x,y2)\n",
    "plt.show()"
   ]
  },
  {
   "cell_type": "markdown",
   "metadata": {},
   "source": [
    "In this cell we used the function triangle_func() to transfer the three variables c, c0, hc, and inside this function we defined trifunc() to compute the triangle wave with one input which is the x value. trifunc(), when executing, will use triangle_func()'s variables to do the calculations and return the results to triangle"
   ]
  }
 ],
 "metadata": {
  "kernelspec": {
   "display_name": "Python 3",
   "language": "python",
   "name": "python3"
  },
  "language_info": {
   "codemirror_mode": {
    "name": "ipython",
    "version": 3
   },
   "file_extension": ".py",
   "mimetype": "text/x-python",
   "name": "python",
   "nbconvert_exporter": "python",
   "pygments_lexer": "ipython3",
   "version": "3.7.4"
  }
 },
 "nbformat": 4,
 "nbformat_minor": 2
}
