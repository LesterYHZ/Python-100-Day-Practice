{
 "cells": [
  {
   "cell_type": "code",
   "execution_count": 1,
   "metadata": {},
   "outputs": [],
   "source": [
    "import numpy as np\n",
    "import matplotlib.pyplot as plt"
   ]
  },
  {
   "cell_type": "markdown",
   "metadata": {},
   "source": [
    "### Broadcasting"
   ]
  },
  {
   "cell_type": "markdown",
   "metadata": {},
   "source": [
    "1. 让所有输入数组都向其中shape最长的数组看齐，shape中不足的部分都通过在前面加1补齐\n",
    "2. 输出数组的shape是输入数组shape的各个轴上的最大值\n",
    "3. 如果输入数组的某个轴和输出数组的对应轴的长度相同或者其长度为1时，这个数组能够用来计算，否则出错\n",
    "4. 当输入数组的某个轴的长度为1时，沿着此轴运算时都用此轴上的第一组值"
   ]
  },
  {
   "cell_type": "code",
   "execution_count": 2,
   "metadata": {},
   "outputs": [
    {
     "name": "stdout",
     "output_type": "stream",
     "text": [
      "[[ 0]\n",
      " [10]\n",
      " [20]\n",
      " [30]\n",
      " [40]\n",
      " [50]]\n",
      "(6, 1)\n"
     ]
    }
   ],
   "source": [
    "a = np.arange(0,60,10).reshape(-1,1)\n",
    "print(a)\n",
    "print(a.shape)"
   ]
  },
  {
   "cell_type": "code",
   "execution_count": 3,
   "metadata": {},
   "outputs": [
    {
     "name": "stdout",
     "output_type": "stream",
     "text": [
      "[0 1 2 3 4]\n",
      "(5,)\n"
     ]
    }
   ],
   "source": [
    "b = np.arange(0,5)\n",
    "print(b)\n",
    "print(b.shape)"
   ]
  },
  {
   "cell_type": "code",
   "execution_count": 4,
   "metadata": {},
   "outputs": [
    {
     "name": "stdout",
     "output_type": "stream",
     "text": [
      "[[ 0  1  2  3  4]\n",
      " [10 11 12 13 14]\n",
      " [20 21 22 23 24]\n",
      " [30 31 32 33 34]\n",
      " [40 41 42 43 44]\n",
      " [50 51 52 53 54]]\n",
      "(6, 5)\n"
     ]
    }
   ],
   "source": [
    "c = a+b\n",
    "print(c)\n",
    "print(c.shape)"
   ]
  },
  {
   "cell_type": "markdown",
   "metadata": {},
   "source": [
    "Because the shape of a differ from that of b, according to rule 1,the shape of b needs to be firstly changed to be of the same length of a. So we add 1 to b's shape so that it is now (1,5)."
   ]
  },
  {
   "cell_type": "code",
   "execution_count": 5,
   "metadata": {},
   "outputs": [
    {
     "name": "stdout",
     "output_type": "stream",
     "text": [
      "[[0 1 2 3 4]]\n"
     ]
    }
   ],
   "source": [
    "b.shape = 1,5\n",
    "print(b)"
   ]
  },
  {
   "cell_type": "markdown",
   "metadata": {},
   "source": [
    "Now the add() has two inputs with shapes of (6,1) and (1,5), and according to rule 2, the output array will have a length of the maximum of the input arrays on every axis. Therefore, the output array's shape will be (6,5)"
   ]
  },
  {
   "cell_type": "markdown",
   "metadata": {},
   "source": [
    "Since the length of b on the 0th axis is 1, and that of a is 6, to enable them to be added together, the length of b on the 0th axis need be expanded to 6. "
   ]
  },
  {
   "cell_type": "code",
   "execution_count": 6,
   "metadata": {},
   "outputs": [
    {
     "name": "stdout",
     "output_type": "stream",
     "text": [
      "[[0 1 2 3 4]\n",
      " [0 1 2 3 4]\n",
      " [0 1 2 3 4]\n",
      " [0 1 2 3 4]\n",
      " [0 1 2 3 4]\n",
      " [0 1 2 3 4]]\n"
     ]
    }
   ],
   "source": [
    "b = b.repeat(6,axis=0)\n",
    "print(b)"
   ]
  },
  {
   "cell_type": "markdown",
   "metadata": {},
   "source": [
    "And since the length of a on 1st axis is 1 and that of b is 5, to enable them to be added together on 1st axis, the length of a on 1st axis need be expanded to 5"
   ]
  },
  {
   "cell_type": "code",
   "execution_count": 7,
   "metadata": {},
   "outputs": [
    {
     "name": "stdout",
     "output_type": "stream",
     "text": [
      "[[ 0  0  0  0  0]\n",
      " [10 10 10 10 10]\n",
      " [20 20 20 20 20]\n",
      " [30 30 30 30 30]\n",
      " [40 40 40 40 40]\n",
      " [50 50 50 50 50]]\n"
     ]
    }
   ],
   "source": [
    "a = a.repeat(5,axis=1)\n",
    "print(a)"
   ]
  },
  {
   "cell_type": "markdown",
   "metadata": {},
   "source": [
    "Now this is how a and b can be added together element by element"
   ]
  },
  {
   "cell_type": "code",
   "execution_count": 8,
   "metadata": {},
   "outputs": [
    {
     "name": "stdout",
     "output_type": "stream",
     "text": [
      "[[ 0  1  2  3  4]\n",
      " [10 11 12 13 14]\n",
      " [20 21 22 23 24]\n",
      " [30 31 32 33 34]\n",
      " [40 41 42 43 44]\n",
      " [50 51 52 53 54]]\n"
     ]
    }
   ],
   "source": [
    "print(a+b)"
   ]
  },
  {
   "cell_type": "markdown",
   "metadata": {},
   "source": [
    "### ogrid object"
   ]
  },
  {
   "cell_type": "code",
   "execution_count": 9,
   "metadata": {},
   "outputs": [
    {
     "name": "stdout",
     "output_type": "stream",
     "text": [
      "[[0]\n",
      " [1]\n",
      " [2]\n",
      " [3]\n",
      " [4]] [[0 1 2 3 4]]\n"
     ]
    }
   ],
   "source": [
    "x,y = np.ogrid[0:5,0:5]\n",
    "print(x,y)"
   ]
  },
  {
   "cell_type": "markdown",
   "metadata": {},
   "source": [
    "ogrid[start:end:step length]\n",
    "\n",
    "ogrid[start:end:length j]"
   ]
  },
  {
   "cell_type": "code",
   "execution_count": 10,
   "metadata": {},
   "outputs": [
    {
     "name": "stdout",
     "output_type": "stream",
     "text": [
      "[[0.        ]\n",
      " [0.33333333]\n",
      " [0.66666667]\n",
      " [1.        ]] [[0.  0.5 1. ]]\n"
     ]
    }
   ],
   "source": [
    "x,y = np.ogrid[0:1:4j,0:1:3j]\n",
    "print(x,y)"
   ]
  },
  {
   "cell_type": "markdown",
   "metadata": {},
   "source": [
    "_ogrid is not a function_"
   ]
  },
  {
   "cell_type": "markdown",
   "metadata": {},
   "source": [
    "### ufunc's method"
   ]
  },
  {
   "cell_type": "markdown",
   "metadata": {},
   "source": [
    "- **reduce**"
   ]
  },
  {
   "cell_type": "code",
   "execution_count": 11,
   "metadata": {},
   "outputs": [
    {
     "data": {
      "text/plain": [
       "array([ 6, 15])"
      ]
     },
     "execution_count": 11,
     "metadata": {},
     "output_type": "execute_result"
    }
   ],
   "source": [
    "np.add.reduce([1,2,3])\n",
    "# 1+2+3\n",
    "np.add.reduce([[1,2,3],[4,5,6]],axis=1)\n",
    "# 1,4+2,5+3,6"
   ]
  },
  {
   "cell_type": "markdown",
   "metadata": {},
   "source": [
    "- **accumulate**"
   ]
  },
  {
   "cell_type": "code",
   "execution_count": 12,
   "metadata": {},
   "outputs": [
    {
     "data": {
      "text/plain": [
       "array([[ 1,  3,  6],\n",
       "       [ 4,  9, 15]], dtype=int32)"
      ]
     },
     "execution_count": 12,
     "metadata": {},
     "output_type": "execute_result"
    }
   ],
   "source": [
    "np.add.accumulate([1,2,3])\n",
    "# 1,1+2,1+2+3\n",
    "np.add.accumulate([[1,2,3],[4,5,6]],axis=1)\n",
    "# 1,1+2,1+2+3\n",
    "# 4,4+5,4+5+6"
   ]
  },
  {
   "cell_type": "markdown",
   "metadata": {},
   "source": [
    "-  **reduceat**"
   ]
  },
  {
   "cell_type": "code",
   "execution_count": 13,
   "metadata": {},
   "outputs": [
    {
     "name": "stdout",
     "output_type": "stream",
     "text": [
      "[ 1  2  3  3  6  4 10]\n"
     ]
    }
   ],
   "source": [
    "a = np.array([1,2,3,4])\n",
    "r = np.add.reduceat(a,indices=[0,1,0,2,0,3,0])\n",
    "print(r)\n"
   ]
  },
  {
   "cell_type": "markdown",
   "metadata": {},
   "source": [
    "对于indices中的每个元素都会调用reduce函数计算出一个值来，因此最终计算结果的长度和indices的长度相同。结果result数组中除最后一个元素之外，都按照如下计算得出：\n",
    "\n",
    "```\n",
    "if indices[i] < indices[i+1]:\n",
    "    result[i] = np.reduce(a[indices[i]:indices[i+1]])\n",
    "else:\n",
    "    result[i] = a[indices[i]\n",
    "```\n",
    "而最后一个元素如下计算:\n",
    "```\n",
    "np.reduce(a[indices[-1]:])\n",
    "```\n",
    "因此上面例子中，结果的每个元素如下计算而得\n",
    "```\n",
    "1 : a[0] = 1\n",
    "2 : a[1] = 2\n",
    "3 : a[0] + a[1] = 1 + 2\n",
    "3 : a[2] = 3\n",
    "6 : a[0] + a[1] + a[2] =  1 + 2 + 3 = 6\n",
    "4 : a[3] = 4\n",
    "10: a[0] + a[1] + a[2] + a[4] = 1+2+3+4 = 10\n",
    "```"
   ]
  },
  {
   "cell_type": "markdown",
   "metadata": {},
   "source": [
    "- **outer**"
   ]
  },
  {
   "cell_type": "code",
   "execution_count": 14,
   "metadata": {},
   "outputs": [
    {
     "name": "stdout",
     "output_type": "stream",
     "text": [
      "[[ 2  3  4]\n",
      " [ 4  6  8]\n",
      " [ 6  9 12]\n",
      " [ 8 12 16]\n",
      " [10 15 20]]\n"
     ]
    }
   ],
   "source": [
    "x = np.multiply.outer([1,2,3,4,5],[2,3,4])\n",
    "print(x)"
   ]
  },
  {
   "cell_type": "markdown",
   "metadata": {},
   "source": [
    "outer方法计算的结果是如下的乘法表：\n",
    "```\n",
    "        2,3,4\n",
    "1\n",
    "2\n",
    "3\n",
    "4\n",
    "5\n",
    "```"
   ]
  },
  {
   "cell_type": "markdown",
   "metadata": {},
   "source": [
    "### Matrix"
   ]
  },
  {
   "cell_type": "code",
   "execution_count": 15,
   "metadata": {},
   "outputs": [
    {
     "name": "stdout",
     "output_type": "stream",
     "text": [
      "[[ 1.0000000e+00  0.0000000e+00  0.0000000e+00]\n",
      " [ 4.4408921e-16  1.0000000e+00  4.4408921e-16]\n",
      " [ 0.0000000e+00 -4.4408921e-16  1.0000000e+00]]\n"
     ]
    }
   ],
   "source": [
    "a = np.matrix([[1,2,3],[5,5,6],[7,9,9]])\n",
    "print(a*a**-1)"
   ]
  },
  {
   "cell_type": "code",
   "execution_count": 16,
   "metadata": {},
   "outputs": [
    {
     "name": "stdout",
     "output_type": "stream",
     "text": [
      "[1 2 3]\n",
      "[1 2 3]\n",
      "[1 2 3]\n"
     ]
    }
   ],
   "source": [
    "a = np.array([1,2,3])\n",
    "print(a)\n",
    "a.reshape((-1,1))\n",
    "print(a)\n",
    "a.reshape((1,-1))\n",
    "print(a)"
   ]
  },
  {
   "cell_type": "markdown",
   "metadata": {},
   "source": [
    "- **dot**"
   ]
  },
  {
   "cell_type": "code",
   "execution_count": 17,
   "metadata": {},
   "outputs": [
    {
     "name": "stdout",
     "output_type": "stream",
     "text": [
      "[[[ 0  1]\n",
      "  [ 2  3]\n",
      "  [ 4  5]]\n",
      "\n",
      " [[ 6  7]\n",
      "  [ 8  9]\n",
      "  [10 11]]]\n",
      "----------------\n",
      "[[[12 13 14]\n",
      "  [15 16 17]]\n",
      "\n",
      " [[18 19 20]\n",
      "  [21 22 23]]]\n",
      "----------------\n",
      "[[[[ 15  16  17]\n",
      "   [ 21  22  23]]\n",
      "\n",
      "  [[ 69  74  79]\n",
      "   [ 99 104 109]]\n",
      "\n",
      "  [[123 132 141]\n",
      "   [177 186 195]]]\n",
      "\n",
      "\n",
      " [[[177 190 203]\n",
      "   [255 268 281]]\n",
      "\n",
      "  [[231 248 265]\n",
      "   [333 350 367]]\n",
      "\n",
      "  [[285 306 327]\n",
      "   [411 432 453]]]]\n"
     ]
    }
   ],
   "source": [
    "\"\"\"dot(a, b)[i,j,k,m] = sum(a[i,j,:] * b[k,:,m])\"\"\"\n",
    "a = np.arange(12).reshape(2,3,2)\n",
    "b = np.arange(12,24).reshape(2,2,3)\n",
    "c = np.dot(a,b)\n",
    "print(a)\n",
    "print(\"----------------\")\n",
    "print(b)\n",
    "print(\"----------------\")\n",
    "print(c)"
   ]
  },
  {
   "cell_type": "markdown",
   "metadata": {},
   "source": [
    "- **inner**"
   ]
  },
  {
   "cell_type": "code",
   "execution_count": 18,
   "metadata": {},
   "outputs": [
    {
     "name": "stdout",
     "output_type": "stream",
     "text": [
      "[[[ 0  1]\n",
      "  [ 2  3]\n",
      "  [ 4  5]]\n",
      "\n",
      " [[ 6  7]\n",
      "  [ 8  9]\n",
      "  [10 11]]]\n",
      "----------------\n",
      "[[[12 13]\n",
      "  [14 15]\n",
      "  [16 17]]\n",
      "\n",
      " [[18 19]\n",
      "  [20 21]\n",
      "  [22 23]]]\n",
      "----------------\n",
      "[[[[ 13  15  17]\n",
      "   [ 19  21  23]]\n",
      "\n",
      "  [[ 63  73  83]\n",
      "   [ 93 103 113]]\n",
      "\n",
      "  [[113 131 149]\n",
      "   [167 185 203]]]\n",
      "\n",
      "\n",
      " [[[163 189 215]\n",
      "   [241 267 293]]\n",
      "\n",
      "  [[213 247 281]\n",
      "   [315 349 383]]\n",
      "\n",
      "  [[263 305 347]\n",
      "   [389 431 473]]]]\n"
     ]
    }
   ],
   "source": [
    "\"\"\"inner(a,b)[i,j,k,m] = sum(a[i,j,:]*b[k,m,:])\"\"\"\n",
    "a = np.arange(12).reshape(2,3,2)\n",
    "b = np.arange(12,24).reshape(2,3,2)\n",
    "c = np.inner(a,b)\n",
    "print(a)\n",
    "print(\"----------------\")\n",
    "print(b)\n",
    "print(\"----------------\")\n",
    "print(c)"
   ]
  },
  {
   "cell_type": "markdown",
   "metadata": {},
   "source": [
    "- **outer**"
   ]
  },
  {
   "cell_type": "code",
   "execution_count": 19,
   "metadata": {},
   "outputs": [
    {
     "name": "stdout",
     "output_type": "stream",
     "text": [
      "[[ 4  5  6  7]\n",
      " [ 8 10 12 14]\n",
      " [12 15 18 21]]\n"
     ]
    }
   ],
   "source": [
    "x = np.outer([1,2,3],[4,5,6,7])\n",
    "print(x)"
   ]
  },
  {
   "cell_type": "markdown",
   "metadata": {},
   "source": [
    "- **solve**"
   ]
  },
  {
   "cell_type": "code",
   "execution_count": 20,
   "metadata": {},
   "outputs": [
    {
     "name": "stdout",
     "output_type": "stream",
     "text": [
      "[-0.28554572 -0.74739502 -2.78688047 -0.04325806  0.51388916  1.83064682\n",
      " -0.028121    1.25658474 -0.30959697  2.628011  ]\n",
      "2.831068712794149e-15\n"
     ]
    }
   ],
   "source": [
    "a = np.random.rand(10,10)\n",
    "b = np.random.rand(10)\n",
    "x = np.linalg.solve(a,b)\n",
    "print(x)\n",
    "y = np.sum(np.abs(np.dot(a,x)-b))\n",
    "print(y)"
   ]
  },
  {
   "cell_type": "markdown",
   "metadata": {},
   "source": [
    "### File"
   ]
  },
  {
   "cell_type": "code",
   "execution_count": 21,
   "metadata": {},
   "outputs": [
    {
     "name": "stdout",
     "output_type": "stream",
     "text": [
      "[ 0  1  2  3  4  5  6  7  8  9 10 11]\n",
      "[[ 0  1  2  3]\n",
      " [ 4  5  6  7]\n",
      " [ 8  9 10 11]]\n",
      "[2.12199579e-314 6.36598737e-314 1.06099790e-313 1.48539705e-313\n",
      " 1.90979621e-313 2.33419537e-313]\n",
      "int32\n",
      "[ 0  1  2  3  4  5  6  7  8  9 10 11]\n",
      "[[ 0  1  2  3]\n",
      " [ 4  5  6  7]\n",
      " [ 8  9 10 11]]\n"
     ]
    }
   ],
   "source": [
    "a = np.arange(0,12)\n",
    "print(a)\n",
    "a.shape=3,4\n",
    "print(a)\n",
    "a.tofile(\"a.bin\")\n",
    "b = np.fromfile(\"a.bin\",dtype=np.float)\n",
    "print(b) # b values are not correct\n",
    "\n",
    "print(a.dtype) # int32\n",
    "b = np.fromfile(\"a.bin\",dtype=np.int32)\n",
    "print(b) # now b values are correct, one-dimensional array\n",
    "b.shape = 3,4\n",
    "print(b) # now b is the same as a"
   ]
  },
  {
   "cell_type": "code",
   "execution_count": 22,
   "metadata": {},
   "outputs": [
    {
     "name": "stdout",
     "output_type": "stream",
     "text": [
      "[[ 0  1  2  3]\n",
      " [ 4  5  6  7]\n",
      " [ 8  9 10 11]]\n"
     ]
    }
   ],
   "source": [
    "\"\"\"\n",
    "or we may use np.save() and np.load()\n",
    "\"\"\"\n",
    "np.save(\"a.npy\",a)\n",
    "c = np.load(\"a.npy\")\n",
    "print(c)"
   ]
  },
  {
   "cell_type": "code",
   "execution_count": 23,
   "metadata": {},
   "outputs": [
    {
     "name": "stdout",
     "output_type": "stream",
     "text": [
      "[[1 2 3]\n",
      " [4 5 6]]\n",
      "[0.  0.1 0.2 0.3 0.4 0.5 0.6 0.7 0.8 0.9]\n",
      "[0.         0.09983342 0.19866933 0.29552021 0.38941834 0.47942554\n",
      " 0.56464247 0.64421769 0.71735609 0.78332691]\n",
      "[[1 2 3]\n",
      " [4 5 6]]\n",
      "[0.  0.1 0.2 0.3 0.4 0.5 0.6 0.7 0.8 0.9]\n",
      "[0.         0.09983342 0.19866933 0.29552021 0.38941834 0.47942554\n",
      " 0.56464247 0.64421769 0.71735609 0.78332691]\n"
     ]
    }
   ],
   "source": [
    "\"\"\"\n",
    "save multiple arrays into one file\n",
    "\"\"\"\n",
    "a = np.array([[1,2,3],[4,5,6]])\n",
    "print(a)\n",
    "b = np.arange(0,1.0,0.1)\n",
    "print(b)\n",
    "c = np.sin(b)\n",
    "print(c)\n",
    "np.savez(\"result.npz\",a,b,sin_array = c)\n",
    "r = np.load(\"result.npz\")\n",
    "print(r[\"arr_0\"])\n",
    "print(r[\"arr_1\"])\n",
    "print(r[\"sin_array\"])"
   ]
  },
  {
   "cell_type": "code",
   "execution_count": 24,
   "metadata": {},
   "outputs": [
    {
     "name": "stdout",
     "output_type": "stream",
     "text": [
      "[[ 0.   0.5  1.   1.5  2.   2.5]\n",
      " [ 3.   3.5  4.   4.5  5.   5.5]\n",
      " [ 6.   6.5  7.   7.5  8.   8.5]\n",
      " [ 9.   9.5 10.  10.5 11.  11.5]]\n",
      "[[ 0.   0.5  1.   1.5  2.   2.5]\n",
      " [ 3.   3.5  4.   4.5  5.   5.5]\n",
      " [ 6.   6.5  7.   7.5  8.   8.5]\n",
      " [ 9.   9.5 10.  10.5 11.  11.5]]\n",
      "[[ 0.  0.  1.  1.  2.  2.]\n",
      " [ 3.  3.  4.  4.  5.  5.]\n",
      " [ 6.  6.  7.  7.  8.  8.]\n",
      " [ 9.  9. 10. 10. 11. 11.]]\n"
     ]
    }
   ],
   "source": [
    "\"\"\"use savetxt and loadtxt to read/write 1-D/2-D array\"\"\"\n",
    "a = np.arange(0,12,0.5).reshape(4,-1)\n",
    "print(a)\n",
    "np.savetxt(\"a.txt\",a)\n",
    "b = np.loadtxt(\"a.txt\")\n",
    "print(b)\n",
    "\n",
    "np.savetxt(\"a_.txt\",a,fmt=\"%d\",delimiter=\",\") # save as integer and seperated with ,\n",
    "c = np.loadtxt(\"a_.txt\",delimiter=\",\")\n",
    "print(c)"
   ]
  },
  {
   "cell_type": "code",
   "execution_count": 25,
   "metadata": {},
   "outputs": [
    {
     "name": "stdout",
     "output_type": "stream",
     "text": [
      "[0 1 2 3 4 5 6 7]\n",
      "[ 0  1  3  6 10 15 21 28]\n",
      "[ 0  2  5  9 14 20 27 35]\n",
      "[0 1 2 3 4 5 6 7]\n",
      "[ 0  1  3  6 10 15 21 28]\n",
      "[ 0  2  5  9 14 20 27 35]\n"
     ]
    }
   ],
   "source": [
    "a = np.arange(8)\n",
    "b = np.add.accumulate(a)\n",
    "c = a+b\n",
    "print(a)\n",
    "print(b)\n",
    "print(c)\n",
    "f = open(\"results.npy\",\"wb\")\n",
    "np.save(f,a)\n",
    "np.save(f,b)\n",
    "np.save(f,c)\n",
    "f.close()\n",
    "f = open(\"results.npy\",\"rb\")\n",
    "x = np.load(f)\n",
    "print(x)\n",
    "y = np.load(f)\n",
    "print(y)\n",
    "z = np.load(f)\n",
    "print(z)"
   ]
  }
 ],
 "metadata": {
  "@webio": {
   "lastCommId": null,
   "lastKernelId": null
  },
  "kernelspec": {
   "display_name": "Python 3",
   "language": "python",
   "name": "python3"
  },
  "language_info": {
   "codemirror_mode": {
    "name": "ipython",
    "version": 3
   },
   "file_extension": ".py",
   "mimetype": "text/x-python",
   "name": "python",
   "nbconvert_exporter": "python",
   "pygments_lexer": "ipython3",
   "version": "3.7.4"
  }
 },
 "nbformat": 4,
 "nbformat_minor": 2
}
