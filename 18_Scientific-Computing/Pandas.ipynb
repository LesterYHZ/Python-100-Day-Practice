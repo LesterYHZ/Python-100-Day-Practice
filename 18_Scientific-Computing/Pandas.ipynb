{
 "cells": [
  {
   "cell_type": "code",
   "execution_count": 1,
   "metadata": {},
   "outputs": [],
   "source": [
    "import numpy as np\n",
    "import pandas as pd"
   ]
  },
  {
   "cell_type": "markdown",
   "metadata": {},
   "source": [
    "### Object Creation"
   ]
  },
  {
   "cell_type": "markdown",
   "metadata": {},
   "source": [
    "Create a *Series* by passeing a list of values, letting pandas create a default integer index"
   ]
  },
  {
   "cell_type": "code",
   "execution_count": 2,
   "metadata": {},
   "outputs": [
    {
     "data": {
      "text/plain": [
       "0    1.0\n",
       "1    3.0\n",
       "2    5.0\n",
       "3    NaN\n",
       "4    6.0\n",
       "5    8.0\n",
       "dtype: float64"
      ]
     },
     "execution_count": 2,
     "metadata": {},
     "output_type": "execute_result"
    }
   ],
   "source": [
    "s = pd.Series([1,3,5,np.nan,6,8])\n",
    "s"
   ]
  },
  {
   "cell_type": "markdown",
   "metadata": {},
   "source": [
    "Create a *DataFrame* by passing a numpy array, with datetime index and columns"
   ]
  },
  {
   "cell_type": "code",
   "execution_count": 3,
   "metadata": {},
   "outputs": [
    {
     "name": "stdout",
     "output_type": "stream",
     "text": [
      "DatetimeIndex(['2019-01-01', '2019-01-02', '2019-01-03', '2019-01-04',\n",
      "               '2019-01-05', '2019-01-06'],\n",
      "              dtype='datetime64[ns]', freq='D')\n"
     ]
    },
    {
     "data": {
      "text/html": [
       "<div>\n",
       "<style scoped>\n",
       "    .dataframe tbody tr th:only-of-type {\n",
       "        vertical-align: middle;\n",
       "    }\n",
       "\n",
       "    .dataframe tbody tr th {\n",
       "        vertical-align: top;\n",
       "    }\n",
       "\n",
       "    .dataframe thead th {\n",
       "        text-align: right;\n",
       "    }\n",
       "</style>\n",
       "<table border=\"1\" class=\"dataframe\">\n",
       "  <thead>\n",
       "    <tr style=\"text-align: right;\">\n",
       "      <th></th>\n",
       "      <th>A</th>\n",
       "      <th>B</th>\n",
       "      <th>C</th>\n",
       "      <th>D</th>\n",
       "    </tr>\n",
       "  </thead>\n",
       "  <tbody>\n",
       "    <tr>\n",
       "      <th>2019-01-01</th>\n",
       "      <td>0.377062</td>\n",
       "      <td>1.320765</td>\n",
       "      <td>-0.306338</td>\n",
       "      <td>-0.773348</td>\n",
       "    </tr>\n",
       "    <tr>\n",
       "      <th>2019-01-02</th>\n",
       "      <td>-1.853365</td>\n",
       "      <td>-0.874267</td>\n",
       "      <td>1.241223</td>\n",
       "      <td>-0.490473</td>\n",
       "    </tr>\n",
       "    <tr>\n",
       "      <th>2019-01-03</th>\n",
       "      <td>-0.332513</td>\n",
       "      <td>2.442822</td>\n",
       "      <td>0.016876</td>\n",
       "      <td>-1.228647</td>\n",
       "    </tr>\n",
       "    <tr>\n",
       "      <th>2019-01-04</th>\n",
       "      <td>-1.154273</td>\n",
       "      <td>-0.423022</td>\n",
       "      <td>0.528699</td>\n",
       "      <td>-0.043597</td>\n",
       "    </tr>\n",
       "    <tr>\n",
       "      <th>2019-01-05</th>\n",
       "      <td>0.685772</td>\n",
       "      <td>0.321247</td>\n",
       "      <td>0.951732</td>\n",
       "      <td>-0.477273</td>\n",
       "    </tr>\n",
       "    <tr>\n",
       "      <th>2019-01-06</th>\n",
       "      <td>-1.299573</td>\n",
       "      <td>-0.532645</td>\n",
       "      <td>-0.528329</td>\n",
       "      <td>-0.593916</td>\n",
       "    </tr>\n",
       "  </tbody>\n",
       "</table>\n",
       "</div>"
      ],
      "text/plain": [
       "                   A         B         C         D\n",
       "2019-01-01  0.377062  1.320765 -0.306338 -0.773348\n",
       "2019-01-02 -1.853365 -0.874267  1.241223 -0.490473\n",
       "2019-01-03 -0.332513  2.442822  0.016876 -1.228647\n",
       "2019-01-04 -1.154273 -0.423022  0.528699 -0.043597\n",
       "2019-01-05  0.685772  0.321247  0.951732 -0.477273\n",
       "2019-01-06 -1.299573 -0.532645 -0.528329 -0.593916"
      ]
     },
     "execution_count": 3,
     "metadata": {},
     "output_type": "execute_result"
    }
   ],
   "source": [
    "dates = pd.date_range(\"20190101\",periods=6)\n",
    "print(dates)\n",
    "df = pd.DataFrame(np.random.randn(6,4),index=dates,columns=list(\"ABCD\"))\n",
    "df"
   ]
  },
  {
   "cell_type": "markdown",
   "metadata": {},
   "source": [
    "Create a *DataFrame* by passing a dict"
   ]
  },
  {
   "cell_type": "code",
   "execution_count": 4,
   "metadata": {},
   "outputs": [
    {
     "name": "stdout",
     "output_type": "stream",
     "text": [
      "A           float64\n",
      "B    datetime64[ns]\n",
      "C           float32\n",
      "D             int32\n",
      "E          category\n",
      "F            object\n",
      "dtype: object\n"
     ]
    },
    {
     "data": {
      "text/html": [
       "<div>\n",
       "<style scoped>\n",
       "    .dataframe tbody tr th:only-of-type {\n",
       "        vertical-align: middle;\n",
       "    }\n",
       "\n",
       "    .dataframe tbody tr th {\n",
       "        vertical-align: top;\n",
       "    }\n",
       "\n",
       "    .dataframe thead th {\n",
       "        text-align: right;\n",
       "    }\n",
       "</style>\n",
       "<table border=\"1\" class=\"dataframe\">\n",
       "  <thead>\n",
       "    <tr style=\"text-align: right;\">\n",
       "      <th></th>\n",
       "      <th>A</th>\n",
       "      <th>B</th>\n",
       "      <th>C</th>\n",
       "      <th>D</th>\n",
       "      <th>E</th>\n",
       "      <th>F</th>\n",
       "    </tr>\n",
       "  </thead>\n",
       "  <tbody>\n",
       "    <tr>\n",
       "      <th>0</th>\n",
       "      <td>1.0</td>\n",
       "      <td>2019-09-20</td>\n",
       "      <td>1.0</td>\n",
       "      <td>3</td>\n",
       "      <td>test</td>\n",
       "      <td>foo</td>\n",
       "    </tr>\n",
       "    <tr>\n",
       "      <th>1</th>\n",
       "      <td>1.0</td>\n",
       "      <td>2019-09-20</td>\n",
       "      <td>1.0</td>\n",
       "      <td>3</td>\n",
       "      <td>train</td>\n",
       "      <td>foo</td>\n",
       "    </tr>\n",
       "    <tr>\n",
       "      <th>2</th>\n",
       "      <td>1.0</td>\n",
       "      <td>2019-09-20</td>\n",
       "      <td>1.0</td>\n",
       "      <td>3</td>\n",
       "      <td>test</td>\n",
       "      <td>foo</td>\n",
       "    </tr>\n",
       "    <tr>\n",
       "      <th>3</th>\n",
       "      <td>1.0</td>\n",
       "      <td>2019-09-20</td>\n",
       "      <td>1.0</td>\n",
       "      <td>3</td>\n",
       "      <td>train</td>\n",
       "      <td>foo</td>\n",
       "    </tr>\n",
       "  </tbody>\n",
       "</table>\n",
       "</div>"
      ],
      "text/plain": [
       "     A          B    C  D      E    F\n",
       "0  1.0 2019-09-20  1.0  3   test  foo\n",
       "1  1.0 2019-09-20  1.0  3  train  foo\n",
       "2  1.0 2019-09-20  1.0  3   test  foo\n",
       "3  1.0 2019-09-20  1.0  3  train  foo"
      ]
     },
     "execution_count": 4,
     "metadata": {},
     "output_type": "execute_result"
    }
   ],
   "source": [
    "df_ = pd.DataFrame({\"A\":1.0,\n",
    "                    \"B\":pd.Timestamp(\"20190920\"),\n",
    "                    \"C\":pd.Series(1,index=list(range(4)),dtype=\"float32\"),\n",
    "                    \"D\":np.array([3]*4,dtype=\"int32\"),\n",
    "                    \"E\":pd.Categorical([\"test\",\"train\",\"test\",\"train\"]),\n",
    "                    \"F\":\"foo\"\n",
    "                   })\n",
    "print(df_.dtypes)\n",
    "df_"
   ]
  },
  {
   "cell_type": "code",
   "execution_count": 5,
   "metadata": {},
   "outputs": [
    {
     "name": "stdout",
     "output_type": "stream",
     "text": [
      "0    1.0\n",
      "1    1.0\n",
      "2    1.0\n",
      "3    1.0\n",
      "Name: A, dtype: float64\n",
      "---------------------------------\n",
      "Index(['A', 'B', 'C', 'D', 'E', 'F'], dtype='object')\n",
      "---------------------------------\n",
      "<bound method NDFrame._add_numeric_operations.<locals>.compound of      A          B    C  D      E    F\n",
      "0  1.0 2019-09-20  1.0  3   test  foo\n",
      "1  1.0 2019-09-20  1.0  3  train  foo\n",
      "2  1.0 2019-09-20  1.0  3   test  foo\n",
      "3  1.0 2019-09-20  1.0  3  train  foo>\n",
      "---------------------------------\n"
     ]
    }
   ],
   "source": [
    "print(df_.A)\n",
    "print(\"---------------------------------\")\n",
    "print(df_.columns)\n",
    "print(\"---------------------------------\")\n",
    "print(df_.compound)\n",
    "print(\"---------------------------------\")"
   ]
  },
  {
   "cell_type": "markdown",
   "metadata": {},
   "source": [
    "### Viewing Data"
   ]
  },
  {
   "cell_type": "code",
   "execution_count": 6,
   "metadata": {},
   "outputs": [
    {
     "data": {
      "text/html": [
       "<div>\n",
       "<style scoped>\n",
       "    .dataframe tbody tr th:only-of-type {\n",
       "        vertical-align: middle;\n",
       "    }\n",
       "\n",
       "    .dataframe tbody tr th {\n",
       "        vertical-align: top;\n",
       "    }\n",
       "\n",
       "    .dataframe thead th {\n",
       "        text-align: right;\n",
       "    }\n",
       "</style>\n",
       "<table border=\"1\" class=\"dataframe\">\n",
       "  <thead>\n",
       "    <tr style=\"text-align: right;\">\n",
       "      <th></th>\n",
       "      <th>A</th>\n",
       "      <th>B</th>\n",
       "      <th>C</th>\n",
       "      <th>D</th>\n",
       "    </tr>\n",
       "  </thead>\n",
       "  <tbody>\n",
       "    <tr>\n",
       "      <th>2019-01-01</th>\n",
       "      <td>0.377062</td>\n",
       "      <td>1.320765</td>\n",
       "      <td>-0.306338</td>\n",
       "      <td>-0.773348</td>\n",
       "    </tr>\n",
       "    <tr>\n",
       "      <th>2019-01-02</th>\n",
       "      <td>-1.853365</td>\n",
       "      <td>-0.874267</td>\n",
       "      <td>1.241223</td>\n",
       "      <td>-0.490473</td>\n",
       "    </tr>\n",
       "    <tr>\n",
       "      <th>2019-01-03</th>\n",
       "      <td>-0.332513</td>\n",
       "      <td>2.442822</td>\n",
       "      <td>0.016876</td>\n",
       "      <td>-1.228647</td>\n",
       "    </tr>\n",
       "    <tr>\n",
       "      <th>2019-01-04</th>\n",
       "      <td>-1.154273</td>\n",
       "      <td>-0.423022</td>\n",
       "      <td>0.528699</td>\n",
       "      <td>-0.043597</td>\n",
       "    </tr>\n",
       "    <tr>\n",
       "      <th>2019-01-05</th>\n",
       "      <td>0.685772</td>\n",
       "      <td>0.321247</td>\n",
       "      <td>0.951732</td>\n",
       "      <td>-0.477273</td>\n",
       "    </tr>\n",
       "    <tr>\n",
       "      <th>2019-01-06</th>\n",
       "      <td>-1.299573</td>\n",
       "      <td>-0.532645</td>\n",
       "      <td>-0.528329</td>\n",
       "      <td>-0.593916</td>\n",
       "    </tr>\n",
       "  </tbody>\n",
       "</table>\n",
       "</div>"
      ],
      "text/plain": [
       "                   A         B         C         D\n",
       "2019-01-01  0.377062  1.320765 -0.306338 -0.773348\n",
       "2019-01-02 -1.853365 -0.874267  1.241223 -0.490473\n",
       "2019-01-03 -0.332513  2.442822  0.016876 -1.228647\n",
       "2019-01-04 -1.154273 -0.423022  0.528699 -0.043597\n",
       "2019-01-05  0.685772  0.321247  0.951732 -0.477273\n",
       "2019-01-06 -1.299573 -0.532645 -0.528329 -0.593916"
      ]
     },
     "execution_count": 6,
     "metadata": {},
     "output_type": "execute_result"
    }
   ],
   "source": [
    "df"
   ]
  },
  {
   "cell_type": "code",
   "execution_count": 7,
   "metadata": {},
   "outputs": [
    {
     "data": {
      "text/html": [
       "<div>\n",
       "<style scoped>\n",
       "    .dataframe tbody tr th:only-of-type {\n",
       "        vertical-align: middle;\n",
       "    }\n",
       "\n",
       "    .dataframe tbody tr th {\n",
       "        vertical-align: top;\n",
       "    }\n",
       "\n",
       "    .dataframe thead th {\n",
       "        text-align: right;\n",
       "    }\n",
       "</style>\n",
       "<table border=\"1\" class=\"dataframe\">\n",
       "  <thead>\n",
       "    <tr style=\"text-align: right;\">\n",
       "      <th></th>\n",
       "      <th>A</th>\n",
       "      <th>B</th>\n",
       "      <th>C</th>\n",
       "      <th>D</th>\n",
       "    </tr>\n",
       "  </thead>\n",
       "  <tbody>\n",
       "    <tr>\n",
       "      <th>2019-01-01</th>\n",
       "      <td>0.377062</td>\n",
       "      <td>1.320765</td>\n",
       "      <td>-0.306338</td>\n",
       "      <td>-0.773348</td>\n",
       "    </tr>\n",
       "    <tr>\n",
       "      <th>2019-01-02</th>\n",
       "      <td>-1.853365</td>\n",
       "      <td>-0.874267</td>\n",
       "      <td>1.241223</td>\n",
       "      <td>-0.490473</td>\n",
       "    </tr>\n",
       "  </tbody>\n",
       "</table>\n",
       "</div>"
      ],
      "text/plain": [
       "                   A         B         C         D\n",
       "2019-01-01  0.377062  1.320765 -0.306338 -0.773348\n",
       "2019-01-02 -1.853365 -0.874267  1.241223 -0.490473"
      ]
     },
     "execution_count": 7,
     "metadata": {},
     "output_type": "execute_result"
    }
   ],
   "source": [
    "df.head(2)"
   ]
  },
  {
   "cell_type": "code",
   "execution_count": 8,
   "metadata": {},
   "outputs": [
    {
     "data": {
      "text/html": [
       "<div>\n",
       "<style scoped>\n",
       "    .dataframe tbody tr th:only-of-type {\n",
       "        vertical-align: middle;\n",
       "    }\n",
       "\n",
       "    .dataframe tbody tr th {\n",
       "        vertical-align: top;\n",
       "    }\n",
       "\n",
       "    .dataframe thead th {\n",
       "        text-align: right;\n",
       "    }\n",
       "</style>\n",
       "<table border=\"1\" class=\"dataframe\">\n",
       "  <thead>\n",
       "    <tr style=\"text-align: right;\">\n",
       "      <th></th>\n",
       "      <th>A</th>\n",
       "      <th>B</th>\n",
       "      <th>C</th>\n",
       "      <th>D</th>\n",
       "    </tr>\n",
       "  </thead>\n",
       "  <tbody>\n",
       "    <tr>\n",
       "      <th>2019-01-04</th>\n",
       "      <td>-1.154273</td>\n",
       "      <td>-0.423022</td>\n",
       "      <td>0.528699</td>\n",
       "      <td>-0.043597</td>\n",
       "    </tr>\n",
       "    <tr>\n",
       "      <th>2019-01-05</th>\n",
       "      <td>0.685772</td>\n",
       "      <td>0.321247</td>\n",
       "      <td>0.951732</td>\n",
       "      <td>-0.477273</td>\n",
       "    </tr>\n",
       "    <tr>\n",
       "      <th>2019-01-06</th>\n",
       "      <td>-1.299573</td>\n",
       "      <td>-0.532645</td>\n",
       "      <td>-0.528329</td>\n",
       "      <td>-0.593916</td>\n",
       "    </tr>\n",
       "  </tbody>\n",
       "</table>\n",
       "</div>"
      ],
      "text/plain": [
       "                   A         B         C         D\n",
       "2019-01-04 -1.154273 -0.423022  0.528699 -0.043597\n",
       "2019-01-05  0.685772  0.321247  0.951732 -0.477273\n",
       "2019-01-06 -1.299573 -0.532645 -0.528329 -0.593916"
      ]
     },
     "execution_count": 8,
     "metadata": {},
     "output_type": "execute_result"
    }
   ],
   "source": [
    "df.tail(3)"
   ]
  },
  {
   "cell_type": "code",
   "execution_count": 9,
   "metadata": {},
   "outputs": [
    {
     "data": {
      "text/plain": [
       "DatetimeIndex(['2019-01-01', '2019-01-02', '2019-01-03', '2019-01-04',\n",
       "               '2019-01-05', '2019-01-06'],\n",
       "              dtype='datetime64[ns]', freq='D')"
      ]
     },
     "execution_count": 9,
     "metadata": {},
     "output_type": "execute_result"
    }
   ],
   "source": [
    "df.index"
   ]
  },
  {
   "cell_type": "code",
   "execution_count": 10,
   "metadata": {},
   "outputs": [
    {
     "data": {
      "text/plain": [
       "Index(['A', 'B', 'C', 'D'], dtype='object')"
      ]
     },
     "execution_count": 10,
     "metadata": {},
     "output_type": "execute_result"
    }
   ],
   "source": [
    "df.columns"
   ]
  },
  {
   "cell_type": "markdown",
   "metadata": {},
   "source": [
    "DataFrame.to_numpy() creates a numpy representation of the pandas data"
   ]
  },
  {
   "cell_type": "code",
   "execution_count": 11,
   "metadata": {},
   "outputs": [
    {
     "data": {
      "text/plain": [
       "array([[ 0.37706182,  1.32076451, -0.30633841, -0.77334824],\n",
       "       [-1.85336527, -0.87426722,  1.24122334, -0.49047317],\n",
       "       [-0.33251269,  2.44282151,  0.01687575, -1.22864675],\n",
       "       [-1.15427265, -0.42302165,  0.52869945, -0.04359742],\n",
       "       [ 0.68577173,  0.32124674,  0.95173176, -0.47727275],\n",
       "       [-1.29957309, -0.5326452 , -0.52832945, -0.59391619]])"
      ]
     },
     "execution_count": 11,
     "metadata": {},
     "output_type": "execute_result"
    }
   ],
   "source": [
    "df.to_numpy()"
   ]
  },
  {
   "cell_type": "markdown",
   "metadata": {},
   "source": [
    "DataFrame.describe() shows the statistic summary of the data"
   ]
  },
  {
   "cell_type": "code",
   "execution_count": 12,
   "metadata": {},
   "outputs": [
    {
     "data": {
      "text/html": [
       "<div>\n",
       "<style scoped>\n",
       "    .dataframe tbody tr th:only-of-type {\n",
       "        vertical-align: middle;\n",
       "    }\n",
       "\n",
       "    .dataframe tbody tr th {\n",
       "        vertical-align: top;\n",
       "    }\n",
       "\n",
       "    .dataframe thead th {\n",
       "        text-align: right;\n",
       "    }\n",
       "</style>\n",
       "<table border=\"1\" class=\"dataframe\">\n",
       "  <thead>\n",
       "    <tr style=\"text-align: right;\">\n",
       "      <th></th>\n",
       "      <th>A</th>\n",
       "      <th>B</th>\n",
       "      <th>C</th>\n",
       "      <th>D</th>\n",
       "    </tr>\n",
       "  </thead>\n",
       "  <tbody>\n",
       "    <tr>\n",
       "      <th>count</th>\n",
       "      <td>6.000000</td>\n",
       "      <td>6.000000</td>\n",
       "      <td>6.000000</td>\n",
       "      <td>6.000000</td>\n",
       "    </tr>\n",
       "    <tr>\n",
       "      <th>mean</th>\n",
       "      <td>-0.596148</td>\n",
       "      <td>0.375816</td>\n",
       "      <td>0.317310</td>\n",
       "      <td>-0.601209</td>\n",
       "    </tr>\n",
       "    <tr>\n",
       "      <th>std</th>\n",
       "      <td>1.004676</td>\n",
       "      <td>1.280201</td>\n",
       "      <td>0.706413</td>\n",
       "      <td>0.390363</td>\n",
       "    </tr>\n",
       "    <tr>\n",
       "      <th>min</th>\n",
       "      <td>-1.853365</td>\n",
       "      <td>-0.874267</td>\n",
       "      <td>-0.528329</td>\n",
       "      <td>-1.228647</td>\n",
       "    </tr>\n",
       "    <tr>\n",
       "      <th>25%</th>\n",
       "      <td>-1.263248</td>\n",
       "      <td>-0.505239</td>\n",
       "      <td>-0.225535</td>\n",
       "      <td>-0.728490</td>\n",
       "    </tr>\n",
       "    <tr>\n",
       "      <th>50%</th>\n",
       "      <td>-0.743393</td>\n",
       "      <td>-0.050887</td>\n",
       "      <td>0.272788</td>\n",
       "      <td>-0.542195</td>\n",
       "    </tr>\n",
       "    <tr>\n",
       "      <th>75%</th>\n",
       "      <td>0.199668</td>\n",
       "      <td>1.070885</td>\n",
       "      <td>0.845974</td>\n",
       "      <td>-0.480573</td>\n",
       "    </tr>\n",
       "    <tr>\n",
       "      <th>max</th>\n",
       "      <td>0.685772</td>\n",
       "      <td>2.442822</td>\n",
       "      <td>1.241223</td>\n",
       "      <td>-0.043597</td>\n",
       "    </tr>\n",
       "  </tbody>\n",
       "</table>\n",
       "</div>"
      ],
      "text/plain": [
       "              A         B         C         D\n",
       "count  6.000000  6.000000  6.000000  6.000000\n",
       "mean  -0.596148  0.375816  0.317310 -0.601209\n",
       "std    1.004676  1.280201  0.706413  0.390363\n",
       "min   -1.853365 -0.874267 -0.528329 -1.228647\n",
       "25%   -1.263248 -0.505239 -0.225535 -0.728490\n",
       "50%   -0.743393 -0.050887  0.272788 -0.542195\n",
       "75%    0.199668  1.070885  0.845974 -0.480573\n",
       "max    0.685772  2.442822  1.241223 -0.043597"
      ]
     },
     "execution_count": 12,
     "metadata": {},
     "output_type": "execute_result"
    }
   ],
   "source": [
    "df.describe()"
   ]
  },
  {
   "cell_type": "markdown",
   "metadata": {},
   "source": [
    "Transposing data is easy as matrix"
   ]
  },
  {
   "cell_type": "code",
   "execution_count": 13,
   "metadata": {},
   "outputs": [
    {
     "data": {
      "text/html": [
       "<div>\n",
       "<style scoped>\n",
       "    .dataframe tbody tr th:only-of-type {\n",
       "        vertical-align: middle;\n",
       "    }\n",
       "\n",
       "    .dataframe tbody tr th {\n",
       "        vertical-align: top;\n",
       "    }\n",
       "\n",
       "    .dataframe thead th {\n",
       "        text-align: right;\n",
       "    }\n",
       "</style>\n",
       "<table border=\"1\" class=\"dataframe\">\n",
       "  <thead>\n",
       "    <tr style=\"text-align: right;\">\n",
       "      <th></th>\n",
       "      <th>2019-01-01</th>\n",
       "      <th>2019-01-02</th>\n",
       "      <th>2019-01-03</th>\n",
       "      <th>2019-01-04</th>\n",
       "      <th>2019-01-05</th>\n",
       "      <th>2019-01-06</th>\n",
       "    </tr>\n",
       "  </thead>\n",
       "  <tbody>\n",
       "    <tr>\n",
       "      <th>A</th>\n",
       "      <td>0.377062</td>\n",
       "      <td>-1.853365</td>\n",
       "      <td>-0.332513</td>\n",
       "      <td>-1.154273</td>\n",
       "      <td>0.685772</td>\n",
       "      <td>-1.299573</td>\n",
       "    </tr>\n",
       "    <tr>\n",
       "      <th>B</th>\n",
       "      <td>1.320765</td>\n",
       "      <td>-0.874267</td>\n",
       "      <td>2.442822</td>\n",
       "      <td>-0.423022</td>\n",
       "      <td>0.321247</td>\n",
       "      <td>-0.532645</td>\n",
       "    </tr>\n",
       "    <tr>\n",
       "      <th>C</th>\n",
       "      <td>-0.306338</td>\n",
       "      <td>1.241223</td>\n",
       "      <td>0.016876</td>\n",
       "      <td>0.528699</td>\n",
       "      <td>0.951732</td>\n",
       "      <td>-0.528329</td>\n",
       "    </tr>\n",
       "    <tr>\n",
       "      <th>D</th>\n",
       "      <td>-0.773348</td>\n",
       "      <td>-0.490473</td>\n",
       "      <td>-1.228647</td>\n",
       "      <td>-0.043597</td>\n",
       "      <td>-0.477273</td>\n",
       "      <td>-0.593916</td>\n",
       "    </tr>\n",
       "  </tbody>\n",
       "</table>\n",
       "</div>"
      ],
      "text/plain": [
       "   2019-01-01  2019-01-02  2019-01-03  2019-01-04  2019-01-05  2019-01-06\n",
       "A    0.377062   -1.853365   -0.332513   -1.154273    0.685772   -1.299573\n",
       "B    1.320765   -0.874267    2.442822   -0.423022    0.321247   -0.532645\n",
       "C   -0.306338    1.241223    0.016876    0.528699    0.951732   -0.528329\n",
       "D   -0.773348   -0.490473   -1.228647   -0.043597   -0.477273   -0.593916"
      ]
     },
     "execution_count": 13,
     "metadata": {},
     "output_type": "execute_result"
    }
   ],
   "source": [
    "df.T"
   ]
  },
  {
   "cell_type": "markdown",
   "metadata": {},
   "source": [
    "Sorting data by axis"
   ]
  },
  {
   "cell_type": "code",
   "execution_count": 14,
   "metadata": {},
   "outputs": [
    {
     "data": {
      "text/html": [
       "<div>\n",
       "<style scoped>\n",
       "    .dataframe tbody tr th:only-of-type {\n",
       "        vertical-align: middle;\n",
       "    }\n",
       "\n",
       "    .dataframe tbody tr th {\n",
       "        vertical-align: top;\n",
       "    }\n",
       "\n",
       "    .dataframe thead th {\n",
       "        text-align: right;\n",
       "    }\n",
       "</style>\n",
       "<table border=\"1\" class=\"dataframe\">\n",
       "  <thead>\n",
       "    <tr style=\"text-align: right;\">\n",
       "      <th></th>\n",
       "      <th>A</th>\n",
       "      <th>B</th>\n",
       "      <th>C</th>\n",
       "      <th>D</th>\n",
       "    </tr>\n",
       "  </thead>\n",
       "  <tbody>\n",
       "    <tr>\n",
       "      <th>2019-01-06</th>\n",
       "      <td>-1.299573</td>\n",
       "      <td>-0.532645</td>\n",
       "      <td>-0.528329</td>\n",
       "      <td>-0.593916</td>\n",
       "    </tr>\n",
       "    <tr>\n",
       "      <th>2019-01-05</th>\n",
       "      <td>0.685772</td>\n",
       "      <td>0.321247</td>\n",
       "      <td>0.951732</td>\n",
       "      <td>-0.477273</td>\n",
       "    </tr>\n",
       "    <tr>\n",
       "      <th>2019-01-04</th>\n",
       "      <td>-1.154273</td>\n",
       "      <td>-0.423022</td>\n",
       "      <td>0.528699</td>\n",
       "      <td>-0.043597</td>\n",
       "    </tr>\n",
       "    <tr>\n",
       "      <th>2019-01-03</th>\n",
       "      <td>-0.332513</td>\n",
       "      <td>2.442822</td>\n",
       "      <td>0.016876</td>\n",
       "      <td>-1.228647</td>\n",
       "    </tr>\n",
       "    <tr>\n",
       "      <th>2019-01-02</th>\n",
       "      <td>-1.853365</td>\n",
       "      <td>-0.874267</td>\n",
       "      <td>1.241223</td>\n",
       "      <td>-0.490473</td>\n",
       "    </tr>\n",
       "    <tr>\n",
       "      <th>2019-01-01</th>\n",
       "      <td>0.377062</td>\n",
       "      <td>1.320765</td>\n",
       "      <td>-0.306338</td>\n",
       "      <td>-0.773348</td>\n",
       "    </tr>\n",
       "  </tbody>\n",
       "</table>\n",
       "</div>"
      ],
      "text/plain": [
       "                   A         B         C         D\n",
       "2019-01-06 -1.299573 -0.532645 -0.528329 -0.593916\n",
       "2019-01-05  0.685772  0.321247  0.951732 -0.477273\n",
       "2019-01-04 -1.154273 -0.423022  0.528699 -0.043597\n",
       "2019-01-03 -0.332513  2.442822  0.016876 -1.228647\n",
       "2019-01-02 -1.853365 -0.874267  1.241223 -0.490473\n",
       "2019-01-01  0.377062  1.320765 -0.306338 -0.773348"
      ]
     },
     "execution_count": 14,
     "metadata": {},
     "output_type": "execute_result"
    }
   ],
   "source": [
    "df.sort_index(axis=0,ascending=False)"
   ]
  },
  {
   "cell_type": "code",
   "execution_count": 15,
   "metadata": {},
   "outputs": [
    {
     "data": {
      "text/html": [
       "<div>\n",
       "<style scoped>\n",
       "    .dataframe tbody tr th:only-of-type {\n",
       "        vertical-align: middle;\n",
       "    }\n",
       "\n",
       "    .dataframe tbody tr th {\n",
       "        vertical-align: top;\n",
       "    }\n",
       "\n",
       "    .dataframe thead th {\n",
       "        text-align: right;\n",
       "    }\n",
       "</style>\n",
       "<table border=\"1\" class=\"dataframe\">\n",
       "  <thead>\n",
       "    <tr style=\"text-align: right;\">\n",
       "      <th></th>\n",
       "      <th>D</th>\n",
       "      <th>C</th>\n",
       "      <th>B</th>\n",
       "      <th>A</th>\n",
       "    </tr>\n",
       "  </thead>\n",
       "  <tbody>\n",
       "    <tr>\n",
       "      <th>2019-01-01</th>\n",
       "      <td>-0.773348</td>\n",
       "      <td>-0.306338</td>\n",
       "      <td>1.320765</td>\n",
       "      <td>0.377062</td>\n",
       "    </tr>\n",
       "    <tr>\n",
       "      <th>2019-01-02</th>\n",
       "      <td>-0.490473</td>\n",
       "      <td>1.241223</td>\n",
       "      <td>-0.874267</td>\n",
       "      <td>-1.853365</td>\n",
       "    </tr>\n",
       "    <tr>\n",
       "      <th>2019-01-03</th>\n",
       "      <td>-1.228647</td>\n",
       "      <td>0.016876</td>\n",
       "      <td>2.442822</td>\n",
       "      <td>-0.332513</td>\n",
       "    </tr>\n",
       "    <tr>\n",
       "      <th>2019-01-04</th>\n",
       "      <td>-0.043597</td>\n",
       "      <td>0.528699</td>\n",
       "      <td>-0.423022</td>\n",
       "      <td>-1.154273</td>\n",
       "    </tr>\n",
       "    <tr>\n",
       "      <th>2019-01-05</th>\n",
       "      <td>-0.477273</td>\n",
       "      <td>0.951732</td>\n",
       "      <td>0.321247</td>\n",
       "      <td>0.685772</td>\n",
       "    </tr>\n",
       "    <tr>\n",
       "      <th>2019-01-06</th>\n",
       "      <td>-0.593916</td>\n",
       "      <td>-0.528329</td>\n",
       "      <td>-0.532645</td>\n",
       "      <td>-1.299573</td>\n",
       "    </tr>\n",
       "  </tbody>\n",
       "</table>\n",
       "</div>"
      ],
      "text/plain": [
       "                   D         C         B         A\n",
       "2019-01-01 -0.773348 -0.306338  1.320765  0.377062\n",
       "2019-01-02 -0.490473  1.241223 -0.874267 -1.853365\n",
       "2019-01-03 -1.228647  0.016876  2.442822 -0.332513\n",
       "2019-01-04 -0.043597  0.528699 -0.423022 -1.154273\n",
       "2019-01-05 -0.477273  0.951732  0.321247  0.685772\n",
       "2019-01-06 -0.593916 -0.528329 -0.532645 -1.299573"
      ]
     },
     "execution_count": 15,
     "metadata": {},
     "output_type": "execute_result"
    }
   ],
   "source": [
    "df.sort_index(axis=1,ascending=False)"
   ]
  },
  {
   "cell_type": "markdown",
   "metadata": {},
   "source": [
    "Sorting by values"
   ]
  },
  {
   "cell_type": "code",
   "execution_count": 16,
   "metadata": {},
   "outputs": [
    {
     "data": {
      "text/html": [
       "<div>\n",
       "<style scoped>\n",
       "    .dataframe tbody tr th:only-of-type {\n",
       "        vertical-align: middle;\n",
       "    }\n",
       "\n",
       "    .dataframe tbody tr th {\n",
       "        vertical-align: top;\n",
       "    }\n",
       "\n",
       "    .dataframe thead th {\n",
       "        text-align: right;\n",
       "    }\n",
       "</style>\n",
       "<table border=\"1\" class=\"dataframe\">\n",
       "  <thead>\n",
       "    <tr style=\"text-align: right;\">\n",
       "      <th></th>\n",
       "      <th>A</th>\n",
       "      <th>B</th>\n",
       "      <th>C</th>\n",
       "      <th>D</th>\n",
       "    </tr>\n",
       "  </thead>\n",
       "  <tbody>\n",
       "    <tr>\n",
       "      <th>2019-01-02</th>\n",
       "      <td>-1.853365</td>\n",
       "      <td>-0.874267</td>\n",
       "      <td>1.241223</td>\n",
       "      <td>-0.490473</td>\n",
       "    </tr>\n",
       "    <tr>\n",
       "      <th>2019-01-06</th>\n",
       "      <td>-1.299573</td>\n",
       "      <td>-0.532645</td>\n",
       "      <td>-0.528329</td>\n",
       "      <td>-0.593916</td>\n",
       "    </tr>\n",
       "    <tr>\n",
       "      <th>2019-01-04</th>\n",
       "      <td>-1.154273</td>\n",
       "      <td>-0.423022</td>\n",
       "      <td>0.528699</td>\n",
       "      <td>-0.043597</td>\n",
       "    </tr>\n",
       "    <tr>\n",
       "      <th>2019-01-05</th>\n",
       "      <td>0.685772</td>\n",
       "      <td>0.321247</td>\n",
       "      <td>0.951732</td>\n",
       "      <td>-0.477273</td>\n",
       "    </tr>\n",
       "    <tr>\n",
       "      <th>2019-01-01</th>\n",
       "      <td>0.377062</td>\n",
       "      <td>1.320765</td>\n",
       "      <td>-0.306338</td>\n",
       "      <td>-0.773348</td>\n",
       "    </tr>\n",
       "    <tr>\n",
       "      <th>2019-01-03</th>\n",
       "      <td>-0.332513</td>\n",
       "      <td>2.442822</td>\n",
       "      <td>0.016876</td>\n",
       "      <td>-1.228647</td>\n",
       "    </tr>\n",
       "  </tbody>\n",
       "</table>\n",
       "</div>"
      ],
      "text/plain": [
       "                   A         B         C         D\n",
       "2019-01-02 -1.853365 -0.874267  1.241223 -0.490473\n",
       "2019-01-06 -1.299573 -0.532645 -0.528329 -0.593916\n",
       "2019-01-04 -1.154273 -0.423022  0.528699 -0.043597\n",
       "2019-01-05  0.685772  0.321247  0.951732 -0.477273\n",
       "2019-01-01  0.377062  1.320765 -0.306338 -0.773348\n",
       "2019-01-03 -0.332513  2.442822  0.016876 -1.228647"
      ]
     },
     "execution_count": 16,
     "metadata": {},
     "output_type": "execute_result"
    }
   ],
   "source": [
    "df.sort_values(by=\"B\")"
   ]
  },
  {
   "cell_type": "code",
   "execution_count": null,
   "metadata": {},
   "outputs": [],
   "source": []
  }
 ],
 "metadata": {
  "@webio": {
   "lastCommId": null,
   "lastKernelId": null
  },
  "kernelspec": {
   "display_name": "Python 3",
   "language": "python",
   "name": "python3"
  },
  "language_info": {
   "codemirror_mode": {
    "name": "ipython",
    "version": 3
   },
   "file_extension": ".py",
   "mimetype": "text/x-python",
   "name": "python",
   "nbconvert_exporter": "python",
   "pygments_lexer": "ipython3",
   "version": "3.7.4"
  }
 },
 "nbformat": 4,
 "nbformat_minor": 2
}
