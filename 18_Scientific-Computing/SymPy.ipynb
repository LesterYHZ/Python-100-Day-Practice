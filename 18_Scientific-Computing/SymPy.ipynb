{
 "cells": [
  {
   "cell_type": "code",
   "execution_count": 1,
   "metadata": {},
   "outputs": [],
   "source": [
    "from sympy import *"
   ]
  },
  {
   "cell_type": "markdown",
   "metadata": {},
   "source": [
    "### Classic Equations"
   ]
  },
  {
   "cell_type": "code",
   "execution_count": 2,
   "metadata": {},
   "outputs": [
    {
     "name": "stdout",
     "output_type": "stream",
     "text": [
      "0\n"
     ]
    }
   ],
   "source": [
    "print(E**(I*pi)+1)"
   ]
  },
  {
   "cell_type": "markdown",
   "metadata": {},
   "source": [
    "Euler's Formula: \n",
    "\n",
    "![](http://bigsec.net/b52/scipydoc/_images/math/8efe68d6eeff0f84b68ae77813f03655ebe3cee7.png.pagespeed.ce.5rDMA0MTG_.png)"
   ]
  },
  {
   "cell_type": "code",
   "execution_count": 3,
   "metadata": {},
   "outputs": [
    {
     "data": {
      "text/latex": [
       "$\\displaystyle e^{i x}$"
      ],
      "text/plain": [
       "exp(I*x)"
      ]
     },
     "execution_count": 3,
     "metadata": {},
     "output_type": "execute_result"
    }
   ],
   "source": [
    "x = Symbol('x')\n",
    "expand(E**(I*x))"
   ]
  },
  {
   "cell_type": "code",
   "execution_count": 4,
   "metadata": {},
   "outputs": [
    {
     "data": {
      "text/latex": [
       "$\\displaystyle i e^{- \\operatorname{im}{\\left(x\\right)}} \\sin{\\left(\\operatorname{re}{\\left(x\\right)} \\right)} + e^{- \\operatorname{im}{\\left(x\\right)}} \\cos{\\left(\\operatorname{re}{\\left(x\\right)} \\right)}$"
      ],
      "text/plain": [
       "I*exp(-im(x))*sin(re(x)) + exp(-im(x))*cos(re(x))"
      ]
     },
     "execution_count": 4,
     "metadata": {},
     "output_type": "execute_result"
    }
   ],
   "source": [
    "expand(exp(I*x),complex=True)"
   ]
  },
  {
   "cell_type": "markdown",
   "metadata": {},
   "source": [
    "im: imaginary part\n",
    "\n",
    "re: real part"
   ]
  },
  {
   "cell_type": "code",
   "execution_count": 5,
   "metadata": {},
   "outputs": [
    {
     "data": {
      "text/latex": [
       "$\\displaystyle i \\sin{\\left(x \\right)} + \\cos{\\left(x \\right)}$"
      ],
      "text/plain": [
       "I*sin(x) + cos(x)"
      ]
     },
     "execution_count": 5,
     "metadata": {},
     "output_type": "execute_result"
    }
   ],
   "source": [
    "x = Symbol(\"x\",real=True)\n",
    "expand(exp(I*x),complex=True)"
   ]
  },
  {
   "cell_type": "markdown",
   "metadata": {},
   "source": [
    "Taylor series: \n",
    "\n",
    "![](https://wikimedia.org/api/rest_v1/media/math/render/svg/46dd2bf78ad7d792988cf616a6ea94024f30b3d9)"
   ]
  },
  {
   "cell_type": "code",
   "execution_count": 6,
   "metadata": {},
   "outputs": [
    {
     "data": {
      "text/latex": [
       "$\\displaystyle 1 + i x - \\frac{x^{2}}{2} - \\frac{i x^{3}}{6} + \\frac{x^{4}}{24} + \\frac{i x^{5}}{120} - \\frac{x^{6}}{720} - \\frac{i x^{7}}{5040} + \\frac{x^{8}}{40320} + \\frac{i x^{9}}{362880} + O\\left(x^{10}\\right)$"
      ],
      "text/plain": [
       "1 + I*x - x**2/2 - I*x**3/6 + x**4/24 + I*x**5/120 - x**6/720 - I*x**7/5040 + x**8/40320 + I*x**9/362880 + O(x**10)"
      ]
     },
     "execution_count": 6,
     "metadata": {},
     "output_type": "execute_result"
    }
   ],
   "source": [
    "tmp = series(exp(I*x),x,0,10)\n",
    "tmp"
   ]
  },
  {
   "cell_type": "code",
   "execution_count": 7,
   "metadata": {},
   "outputs": [
    {
     "data": {
      "text/latex": [
       "$\\displaystyle \\frac{x^{8}}{40320} - \\frac{x^{6}}{720} + \\frac{x^{4}}{24} - \\frac{x^{2}}{2} + \\operatorname{re}{\\left(O\\left(x^{10}\\right)\\right)} + 1$"
      ],
      "text/plain": [
       "x**8/40320 - x**6/720 + x**4/24 - x**2/2 + re(O(x**10)) + 1"
      ]
     },
     "execution_count": 7,
     "metadata": {},
     "output_type": "execute_result"
    }
   ],
   "source": [
    "re(tmp)"
   ]
  },
  {
   "cell_type": "code",
   "execution_count": 8,
   "metadata": {},
   "outputs": [
    {
     "data": {
      "text/latex": [
       "$\\displaystyle 1 - \\frac{x^{2}}{2} + \\frac{x^{4}}{24} - \\frac{x^{6}}{720} + \\frac{x^{8}}{40320} + O\\left(x^{10}\\right)$"
      ],
      "text/plain": [
       "1 - x**2/2 + x**4/24 - x**6/720 + x**8/40320 + O(x**10)"
      ]
     },
     "execution_count": 8,
     "metadata": {},
     "output_type": "execute_result"
    }
   ],
   "source": [
    "series(cos(x),x,0,10)"
   ]
  },
  {
   "cell_type": "code",
   "execution_count": 9,
   "metadata": {},
   "outputs": [
    {
     "name": "stdout",
     "output_type": "stream",
     "text": [
      "   9       7      5    3                 \n",
      "  x       x      x    x          ⎛ ⎛ 10⎞⎞\n",
      "────── - ──── + ─── - ── + x + im⎝O⎝x  ⎠⎠\n",
      "362880   5040   120   6                  \n"
     ]
    },
    {
     "data": {
      "text/latex": [
       "$\\displaystyle \\frac{x^{9}}{362880} - \\frac{x^{7}}{5040} + \\frac{x^{5}}{120} - \\frac{x^{3}}{6} + x + \\operatorname{im}{\\left(O\\left(x^{10}\\right)\\right)}$"
      ],
      "text/plain": [
       "x**9/362880 - x**7/5040 + x**5/120 - x**3/6 + x + im(O(x**10))"
      ]
     },
     "execution_count": 9,
     "metadata": {},
     "output_type": "execute_result"
    }
   ],
   "source": [
    "pprint(im(tmp))\n",
    "im(tmp)"
   ]
  },
  {
   "cell_type": "code",
   "execution_count": 10,
   "metadata": {},
   "outputs": [
    {
     "name": "stdout",
     "output_type": "stream",
     "text": [
      "     3     5     7       9           \n",
      "    x     x     x       x       ⎛ 10⎞\n",
      "x - ── + ─── - ──── + ────── + O⎝x  ⎠\n",
      "    6    120   5040   362880         \n"
     ]
    },
    {
     "data": {
      "text/latex": [
       "$\\displaystyle x - \\frac{x^{3}}{6} + \\frac{x^{5}}{120} - \\frac{x^{7}}{5040} + \\frac{x^{9}}{362880} + O\\left(x^{10}\\right)$"
      ],
      "text/plain": [
       "x - x**3/6 + x**5/120 - x**7/5040 + x**9/362880 + O(x**10)"
      ]
     },
     "execution_count": 10,
     "metadata": {},
     "output_type": "execute_result"
    }
   ],
   "source": [
    "pprint(series(sin(x),x,0,10))\n",
    "series(sin(x),x,0,10)"
   ]
  },
  {
   "cell_type": "markdown",
   "metadata": {},
   "source": [
    "### Sphere Volume"
   ]
  },
  {
   "cell_type": "code",
   "execution_count": 11,
   "metadata": {},
   "outputs": [
    {
     "data": {
      "text/latex": [
       "$\\displaystyle - x \\cos{\\left(x \\right)} + \\sin{\\left(x \\right)}$"
      ],
      "text/plain": [
       "-x*cos(x) + sin(x)"
      ]
     },
     "execution_count": 11,
     "metadata": {},
     "output_type": "execute_result"
    }
   ],
   "source": [
    "integrate(x*sin(x),x)"
   ]
  },
  {
   "cell_type": "code",
   "execution_count": 12,
   "metadata": {},
   "outputs": [
    {
     "data": {
      "text/latex": [
       "$\\displaystyle - 2 \\pi$"
      ],
      "text/plain": [
       "-2*pi"
      ]
     },
     "execution_count": 12,
     "metadata": {},
     "output_type": "execute_result"
    }
   ],
   "source": [
    "integrate(x*sin(x),(x,0,2*pi))"
   ]
  },
  {
   "cell_type": "markdown",
   "metadata": {},
   "source": [
    "To compute a sphere's volume, firstly let's look at the function used to compute a circle's area. \n",
    "\n",
    "![](http://bigsec.net/b52/scipydoc/_images/math/576d4324043d19471c90ec5db4e3cb17d99f53b2.png.pagespeed.ce.0UwE2pXdnU.png)"
   ]
  },
  {
   "cell_type": "code",
   "execution_count": 13,
   "metadata": {},
   "outputs": [
    {
     "data": {
      "text/latex": [
       "$\\displaystyle 2 \\left(\\begin{cases} \\int\\limits_{- r}^{r} \\begin{cases} - \\frac{i r}{\\sqrt{-1 + \\frac{x^{2}}{r^{2}}}} + \\frac{3 i x^{2}}{2 r \\sqrt{-1 + \\frac{x^{2}}{r^{2}}}} + \\frac{i x^{2}}{2 r \\left(-1 + \\frac{x^{2}}{r^{2}}\\right)^{\\frac{3}{2}}} - \\frac{i x^{4}}{2 r^{3} \\left(-1 + \\frac{x^{2}}{r^{2}}\\right)^{\\frac{3}{2}}} & \\text{for}\\: \\left|{\\frac{x^{2}}{r^{2}}}\\right| > 1 \\\\\\frac{r \\sqrt{1 - \\frac{x^{2}}{r^{2}}}}{2} + \\frac{r}{2 \\sqrt{1 - \\frac{x^{2}}{r^{2}}}} - \\frac{x^{2}}{2 r \\sqrt{1 - \\frac{x^{2}}{r^{2}}}} & \\text{otherwise} \\end{cases}\\, dx & \\text{for}\\: r > - r \\\\- \\int\\limits_{r}^{- r} \\begin{cases} - \\frac{i r}{\\sqrt{-1 + \\frac{x^{2}}{r^{2}}}} + \\frac{3 i x^{2}}{2 r \\sqrt{-1 + \\frac{x^{2}}{r^{2}}}} + \\frac{i x^{2}}{2 r \\left(-1 + \\frac{x^{2}}{r^{2}}\\right)^{\\frac{3}{2}}} - \\frac{i x^{4}}{2 r^{3} \\left(-1 + \\frac{x^{2}}{r^{2}}\\right)^{\\frac{3}{2}}} & \\text{for}\\: \\left|{\\frac{x^{2}}{r^{2}}}\\right| > 1 \\\\\\frac{r \\sqrt{1 - \\frac{x^{2}}{r^{2}}}}{2} + \\frac{r}{2 \\sqrt{1 - \\frac{x^{2}}{r^{2}}}} - \\frac{x^{2}}{2 r \\sqrt{1 - \\frac{x^{2}}{r^{2}}}} & \\text{otherwise} \\end{cases}\\, dx & \\text{otherwise} \\end{cases}\\right)$"
      ],
      "text/plain": [
       "2*Piecewise((Integral(Piecewise((-I*r/sqrt(-1 + x**2/r**2) + 3*I*x**2/(2*r*sqrt(-1 + x**2/r**2)) + I*x**2/(2*r*(-1 + x**2/r**2)**(3/2)) - I*x**4/(2*r**3*(-1 + x**2/r**2)**(3/2)), Abs(x**2/r**2) > 1), (r*sqrt(1 - x**2/r**2)/2 + r/(2*sqrt(1 - x**2/r**2)) - x**2/(2*r*sqrt(1 - x**2/r**2)), True)), (x, -r, r)), r > -r), (-Integral(Piecewise((-I*r/sqrt(-1 + x**2/r**2) + 3*I*x**2/(2*r*sqrt(-1 + x**2/r**2)) + I*x**2/(2*r*(-1 + x**2/r**2)**(3/2)) - I*x**4/(2*r**3*(-1 + x**2/r**2)**(3/2)), Abs(x**2/r**2) > 1), (r*sqrt(1 - x**2/r**2)/2 + r/(2*sqrt(1 - x**2/r**2)) - x**2/(2*r*sqrt(1 - x**2/r**2)), True)), (x, r, -r)), True))"
      ]
     },
     "execution_count": 13,
     "metadata": {},
     "output_type": "execute_result"
    }
   ],
   "source": [
    "x, y, r = symbols('x,y,r')\n",
    "2*integrate(sqrt(r*r-x**2),(x,-r,r))"
   ]
  },
  {
   "cell_type": "markdown",
   "metadata": {},
   "source": [
    "Because SymPy does not know that r is always larger than zero, we need to re-define the variable r to get the correct answer."
   ]
  },
  {
   "cell_type": "code",
   "execution_count": 14,
   "metadata": {},
   "outputs": [
    {
     "data": {
      "text/latex": [
       "$\\displaystyle \\pi r^{2}$"
      ],
      "text/plain": [
       "pi*r**2"
      ]
     },
     "execution_count": 14,
     "metadata": {},
     "output_type": "execute_result"
    }
   ],
   "source": [
    "r =  symbols('r',positive=True)\n",
    "circle_area = 2*integrate(sqrt(r**2-x**2),(x,-r,r))\n",
    "circle_area"
   ]
  },
  {
   "cell_type": "markdown",
   "metadata": {},
   "source": [
    "Then we compute the integral of the area equation with each layer areas vary by x-coord, and then we get the sphere volume. \n",
    "\n",
    "![](http://bigsec.net/b52/scipydoc/_images/mayavi2_sphere.png.pagespeed.ce.cMlqSyPr6Y.png)"
   ]
  },
  {
   "cell_type": "code",
   "execution_count": 15,
   "metadata": {},
   "outputs": [
    {
     "data": {
      "text/latex": [
       "$\\displaystyle \\pi \\left(r^{2} - x^{2}\\right)$"
      ],
      "text/plain": [
       "pi*(r**2 - x**2)"
      ]
     },
     "execution_count": 15,
     "metadata": {},
     "output_type": "execute_result"
    }
   ],
   "source": [
    "circle_area = circle_area.subs(r,sqrt(r**2-x**2))\n",
    "circle_area"
   ]
  },
  {
   "cell_type": "markdown",
   "metadata": {},
   "source": [
    "#### subs()"
   ]
  },
  {
   "cell_type": "markdown",
   "metadata": {},
   "source": [
    "Using subs() can we replace the symbol in the equation with another: \n",
    "\n",
    "- expression.subs(x,y): replace x with y\n",
    "- expression.subs({x:y,u:v}): use dict to do the replacement\n",
    "- expression.subs([(x,y),(u,v)]): use array to do the replacement\n"
   ]
  },
  {
   "cell_type": "markdown",
   "metadata": {},
   "source": [
    "Then we compute the integral of the new circle_area function on x axis from -r to r"
   ]
  },
  {
   "cell_type": "code",
   "execution_count": 16,
   "metadata": {},
   "outputs": [
    {
     "data": {
      "text/latex": [
       "$\\displaystyle \\frac{4 \\pi r^{3}}{3}$"
      ],
      "text/plain": [
       "4*pi*r**3/3"
      ]
     },
     "execution_count": 16,
     "metadata": {},
     "output_type": "execute_result"
    }
   ],
   "source": [
    "integrate(circle_area,(x,-r,r))"
   ]
  }
 ],
 "metadata": {
  "@webio": {
   "lastCommId": null,
   "lastKernelId": null
  },
  "kernelspec": {
   "display_name": "Python 3",
   "language": "python",
   "name": "python3"
  },
  "language_info": {
   "codemirror_mode": {
    "name": "ipython",
    "version": 3
   },
   "file_extension": ".py",
   "mimetype": "text/x-python",
   "name": "python",
   "nbconvert_exporter": "python",
   "pygments_lexer": "ipython3",
   "version": "3.7.4"
  }
 },
 "nbformat": 4,
 "nbformat_minor": 2
}
